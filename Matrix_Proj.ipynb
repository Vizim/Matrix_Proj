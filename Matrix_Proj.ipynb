{
  "cells": [
    {
      "cell_type": "code",
      "execution_count": 1,
      "metadata": {
        "id": "_7jYQLLJO0mv"
      },
      "outputs": [],
      "source": [
        "import numpy as np\n",
        "from PIL import Image\n",
        "import os"
      ]
    },
    {
      "cell_type": "code",
      "execution_count": 3,
      "metadata": {
        "colab": {
          "base_uri": "https://localhost:8080/",
          "height": 401
        },
        "id": "rwXDetrkPoGR",
        "outputId": "88993c86-65fe-4fea-83f1-5d46679d6ce0"
      },
      "outputs": [],
      "source": [
        "os.getcwd()\n",
        "os.listdir()\n",
        "\n",
        "with Image.open(\"src_imgs/4.1.08.tiff\") as f:\n",
        "  w = f.width\n",
        "  h = f.height\n",
        "  rarr =[[0]*h for i in range(w)]\n",
        "  garr = [[0]*h for i in range(w)]\n",
        "  barr = [[0]*h for i in range(w)]\n",
        "  for i in range(w):\n",
        "    for j in range(h):\n",
        "      pixels = f.getpixel((i,j))\n",
        "      rarr[i][j] = pixels[0]\n",
        "      garr[i][j] = pixels[1]\n",
        "      barr[i][j] = pixels[2]"
      ]
    },
    {
      "cell_type": "code",
      "execution_count": 4,
      "metadata": {
        "id": "kTK6F_rMbVz-"
      },
      "outputs": [],
      "source": [
        "rArrMatr = np.asmatrix(rarr)\n",
        "svdRarrP,svdRarrS, svdRarrQT = np.linalg.svd(rArrMatr)"
      ]
    },
    {
      "cell_type": "code",
      "execution_count": 5,
      "metadata": {
        "colab": {
          "base_uri": "https://localhost:8080/"
        },
        "id": "88qWRmIdeTIw",
        "outputId": "19443506-7fc4-4428-f1d9-4fb847408211"
      },
      "outputs": [
        {
          "name": "stdout",
          "output_type": "stream",
          "text": [
            "[4.50254979e+04 4.05135633e+03 3.57266299e+03 3.22067443e+03\n",
            " 2.38338014e+03 2.25400670e+03 2.16090474e+03 1.92085038e+03\n",
            " 1.85075687e+03 1.49697694e+03 1.30390754e+03 1.09948044e+03\n",
            " 1.01062607e+03 8.83351269e+02 8.07541447e+02 7.89915068e+02\n",
            " 6.96930769e+02 6.70930792e+02 6.05936985e+02 5.97144460e+02\n",
            " 5.75254658e+02 5.33605668e+02 5.20639195e+02 4.32124644e+02\n",
            " 4.15541314e+02 3.98098652e+02 3.74139890e+02 3.50242917e+02\n",
            " 3.48366001e+02 3.32074963e+02 3.05498099e+02 2.96713528e+02\n",
            " 2.69955570e+02 2.59365610e+02 2.50000731e+02 2.39090692e+02\n",
            " 2.23134719e+02 2.12438651e+02 2.01055619e+02 1.87443566e+02\n",
            " 1.79195795e+02 1.70707764e+02 1.65056329e+02 1.58542227e+02\n",
            " 1.50034208e+02 1.42002083e+02 1.38490894e+02 1.34985168e+02\n",
            " 1.27729367e+02 1.20067681e+02 1.15689962e+02 1.09109888e+02\n",
            " 1.06868525e+02 9.86033288e+01 9.57365556e+01 9.24487708e+01\n",
            " 9.12912605e+01 8.84073826e+01 8.41419554e+01 8.02302722e+01\n",
            " 7.91532733e+01 7.47462475e+01 7.40677216e+01 6.96839558e+01\n",
            " 6.52633721e+01 6.33911292e+01 6.20781935e+01 6.07122870e+01\n",
            " 5.86623220e+01 5.69056553e+01 5.58576111e+01 5.18477949e+01\n",
            " 5.03715460e+01 4.92119500e+01 4.69275584e+01 4.56053028e+01\n",
            " 4.30858487e+01 4.14562055e+01 4.04060354e+01 3.83246875e+01\n",
            " 3.65938304e+01 3.57077507e+01 3.51334895e+01 3.46290943e+01\n",
            " 3.36831079e+01 3.26879625e+01 3.12150234e+01 3.11291574e+01\n",
            " 3.02179739e+01 2.86337044e+01 2.76271670e+01 2.67479252e+01\n",
            " 2.63585572e+01 2.56459669e+01 2.44847590e+01 2.39615058e+01\n",
            " 2.30471914e+01 2.27561745e+01 2.21214451e+01 2.12300262e+01\n",
            " 2.08088920e+01 2.04569495e+01 2.02477993e+01 1.92572473e+01\n",
            " 1.88281746e+01 1.83272378e+01 1.73671076e+01 1.68754275e+01\n",
            " 1.66914068e+01 1.62008783e+01 1.60827447e+01 1.56671728e+01\n",
            " 1.52916465e+01 1.49000951e+01 1.45893000e+01 1.40076341e+01\n",
            " 1.38002810e+01 1.35576882e+01 1.29540778e+01 1.28075130e+01\n",
            " 1.24507738e+01 1.23128843e+01 1.22003702e+01 1.18502741e+01\n",
            " 1.16955759e+01 1.15076485e+01 1.12157653e+01 1.09685682e+01\n",
            " 1.07250139e+01 1.07014186e+01 1.05358999e+01 1.03069815e+01\n",
            " 1.02426853e+01 1.00183696e+01 9.71778762e+00 9.50994868e+00\n",
            " 9.39386709e+00 9.33289878e+00 9.18646990e+00 9.05630096e+00\n",
            " 8.90646979e+00 8.85569776e+00 8.71462004e+00 8.53227064e+00\n",
            " 8.46347806e+00 8.25480124e+00 8.18984977e+00 7.94527827e+00\n",
            " 7.88158201e+00 7.77372208e+00 7.65659012e+00 7.53335683e+00\n",
            " 7.43133914e+00 7.35737416e+00 7.26073330e+00 7.04160323e+00\n",
            " 6.91519559e+00 6.81836751e+00 6.80192226e+00 6.66824940e+00\n",
            " 6.53773289e+00 6.46418250e+00 6.35946776e+00 6.27986715e+00\n",
            " 6.15274142e+00 6.12639349e+00 5.87604986e+00 5.80195049e+00\n",
            " 5.77113194e+00 5.61828184e+00 5.52430525e+00 5.47344072e+00\n",
            " 5.41584627e+00 5.27599205e+00 5.24604006e+00 5.16599354e+00\n",
            " 5.06916853e+00 5.05092455e+00 5.01451784e+00 4.92321346e+00\n",
            " 4.75904467e+00 4.68001614e+00 4.64427609e+00 4.49112505e+00\n",
            " 4.44837360e+00 4.37689185e+00 4.36426979e+00 4.26622614e+00\n",
            " 4.17384994e+00 4.09339477e+00 4.03192430e+00 3.95932431e+00\n",
            " 3.88623770e+00 3.83060087e+00 3.72929496e+00 3.69837115e+00\n",
            " 3.63431509e+00 3.61644043e+00 3.52922440e+00 3.39159044e+00\n",
            " 3.36342531e+00 3.27004084e+00 3.26062984e+00 3.15035929e+00\n",
            " 3.09199386e+00 3.03270763e+00 2.93570211e+00 2.89368005e+00\n",
            " 2.82946518e+00 2.78566501e+00 2.76871739e+00 2.70658265e+00\n",
            " 2.65298707e+00 2.56521166e+00 2.50499978e+00 2.47430330e+00\n",
            " 2.36881477e+00 2.33303244e+00 2.25075436e+00 2.18730730e+00\n",
            " 2.09855483e+00 2.02583914e+00 1.95330412e+00 1.91007730e+00\n",
            " 1.84093352e+00 1.81831711e+00 1.67782701e+00 1.65352437e+00\n",
            " 1.62724540e+00 1.61779617e+00 1.52640235e+00 1.45073141e+00\n",
            " 1.44371756e+00 1.35485308e+00 1.24767711e+00 1.19601937e+00\n",
            " 1.14952488e+00 1.11841260e+00 1.04281849e+00 9.82600113e-01\n",
            " 9.23344049e-01 8.79216602e-01 7.60118332e-01 7.17009896e-01\n",
            " 6.39423098e-01 5.81620425e-01 5.11395611e-01 4.87641812e-01\n",
            " 4.53569840e-01 3.72684391e-01 3.49106645e-01 2.57417476e-01\n",
            " 2.20617993e-01 1.67567186e-01 9.73336906e-02 5.77246859e-02]\n"
          ]
        }
      ],
      "source": [
        "print(svdRarrS)"
      ]
    },
    {
      "cell_type": "code",
      "execution_count": null,
      "metadata": {
        "id": "kUCwc1Loem7s"
      },
      "outputs": [],
      "source": [
        "#Ideally we have 3 test cases \n",
        "\n",
        "#Count clk cycle per second test just put code inbetween\n",
        "start = count()\n",
        "\n",
        "#Do shit here \n",
        "sleep(1)\n",
        "elapsed = count_end() - start\n",
        "print(f'Elapsed cycles: {elapsed:,}')\n",
        "\n",
        "#Image print size\n",
        "def CheckSize(fpatharr):\n",
        "    for i in fpatharr:\n",
        "        fsize = os.path.getsize(i)\n",
        "        print(\"============\\n Image size for: \"+ i +\"\\n  \n",
        "        Bit Size:\"+fsize+\"\\n\")\n",
        "\n",
        "#Verify image composition post compression:\n",
        "#Ideally have some code to check pixel by pixel rgbA vals of the image\n",
        "\n",
        "\n",
        "\n",
        "\n",
        "\n",
        "\n"
      ]
    },
    {
      "cell_type": "code",
      "execution_count": 6,
      "metadata": {
        "colab": {
          "base_uri": "https://localhost:8080/",
          "height": 425
        },
        "id": "4byD9YzZ8Gm7",
        "outputId": "50681ca8-7141-4c12-cb57-d0136152d531"
      },
      "outputs": [
        {
          "ename": "",
          "evalue": "",
          "output_type": "error",
          "traceback": [
            "\u001b[1;31mCanceled future for execute_request message before replies were done"
          ]
        },
        {
          "ename": "",
          "evalue": "",
          "output_type": "error",
          "traceback": [
            "\u001b[1;31mThe Kernel crashed while executing code in the the current cell or a previous cell. Please review the code in the cell(s) to identify a possible cause of the failure. Click <a href='https://aka.ms/vscodeJupyterKernelCrash'>here</a> for more info. View Jupyter <a href='command:jupyter.viewOutput'>log</a> for further details."
          ]
        }
      ],
      "source": [
        "import numpy as np\n",
        "import matplotlib.pyplot as plt\n",
        "\n",
        "def decompose_image(image):\n",
        "    # Convert the image to a numpy array\n",
        "    image_array = np.array(image)\n",
        "    height, width, _ = image_array.shape\n",
        "    image_matrix = image_array.reshape(height * width, 3)\n",
        "    U, S, V = np.linalg.svd(image_matrix)\n",
        "\n",
        "    red_channel = np.dot(U[:, 0] * S[0], V[0, :])\n",
        "    green_channel = np.dot(U[:, 1] * S[1], V[1, :])\n",
        "    blue_channel = np.dot(U[:, 2] * S[2], V[2, :])\n",
        "\n",
        "    red_channel = red_channel.reshape(height, width)\n",
        "    green_channel = green_channel.reshape(height, width)\n",
        "    blue_channel = blue_channel.reshape(height, width)\n",
        "    decomposed_image = np.dstack((red_channel, green_channel, blue_channel))\n",
        "\n",
        "    return decomposed_image\n",
        "\n",
        "# Load an image\n",
        "image = plt.imread('src_imgs/4.1.08.tiff')\n",
        "\n",
        "# Decompose the image into color channels\n",
        "decomposed_image = decompose_image(image)\n",
        "\n",
        "# Display the original image and decomposed channels\n",
        "plt.subplot(2, 2, 1)\n",
        "plt.imshow(image)\n",
        "plt.title('Original Image')\n",
        "\n",
        "plt.subplot(2, 2, 2)\n",
        "plt.imshow(decomposed_image)\n",
        "plt.title('Decomposed Image')\n",
        "\n",
        "plt.subplot(2, 2, 3)\n",
        "plt.imshow(decomposed_image[:, :, 0], cmap='gray')\n",
        "plt.title('Red Channel')\n",
        "\n",
        "plt.subplot(2, 2, 4)\n",
        "plt.imshow(decomposed_image[:, :, 1], cmap='gray')\n",
        "plt.title('Green Channel')\n",
        "\n",
        "plt.show()\n"
      ]
    },
    {
      "cell_type": "code",
      "execution_count": null,
      "metadata": {
        "id": "Z_m6g9ngBV92"
      },
      "outputs": [],
      "source": []
    }
  ],
  "metadata": {
    "colab": {
      "provenance": [],
      "toc_visible": true
    },
    "kernelspec": {
      "display_name": "Python 3",
      "name": "python3"
    },
    "language_info": {
      "codemirror_mode": {
        "name": "ipython",
        "version": 3
      },
      "file_extension": ".py",
      "mimetype": "text/x-python",
      "name": "python",
      "nbconvert_exporter": "python",
      "pygments_lexer": "ipython3",
      "version": "3.9.7"
    }
  },
  "nbformat": 4,
  "nbformat_minor": 0
}
